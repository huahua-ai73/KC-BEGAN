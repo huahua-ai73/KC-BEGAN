{
 "cells": [
  {
   "cell_type": "code",
   "execution_count": null,
   "id": "actual-grill",
   "metadata": {},
   "outputs": [],
   "source": [
    "from sklearn.model_selection import train_test_split\n",
    "from sklearn.cross_decomposition import PLSRegression\n",
    "from sklearn import manifold, datasets\n",
    "from sklearn.metrics import *\n",
    "import os\n",
    "import numpy as np\n",
    "from scipy.signal import savgol_filter"
   ]
  },
  {
   "cell_type": "code",
   "execution_count": null,
   "id": "universal-bread",
   "metadata": {},
   "outputs": [],
   "source": [
    "#测试集使用，训练集不使用\n",
    "def rmse(Y_test,y_pred):\n",
    "    mse_ = mean_squared_error(Y_test, y_pred)\n",
    "    RMSE = np.sqrt(mse_)\n",
    "    return RMSE\n",
    "x_test = np.load('testx.npy',allow_pickle = True)\n",
    "y_test = np.load('testy.npy',allow_pickle = True)\n",
    "x_train = np.load('trainx.npy',allow_pickle = True)\n",
    "y_train = np.load('trainy.npy',allow_pickle = True)"
   ]
  },
  {
   "cell_type": "code",
   "execution_count": null,
   "id": "japanese-bailey",
   "metadata": {},
   "outputs": [],
   "source": [
    "PLS = PLSRegression(n_components=4)\n",
    "PLS.fit(x_train,y_train)\n",
    "y_pre = PLS.predict(x_test)\n",
    "value_1 = r2_score(y_test,y_pre)\n",
    "print('测试集%s'%value_1)\n",
    "rm = rmse(y_test,y_pre)\n",
    "print('测试集%s'%rm)"
   ]
  },
  {
   "cell_type": "code",
   "execution_count": null,
   "id": "frozen-classics",
   "metadata": {},
   "outputs": [],
   "source": [
    "os.chdir(r'D:\\Major_revision\\Major_RevisondataSet')\n",
    "generated_x = np.load('major_RevsionX1.npy',allow_pickle = True).reshape(600,2500)#如果文件路径末尾没有扩展名.npy，该扩展名会被自动加上\n",
    "generated_y = np.load('major_RevsionY1.npy',allow_pickle = True)\n",
    "generated_y = generated_y.reshape(-1,1)"
   ]
  },
  {
   "cell_type": "code",
   "execution_count": null,
   "id": "appointed-alexandria",
   "metadata": {},
   "outputs": [],
   "source": [
    "X_train_container = []\n",
    "Y_train_container = []\n",
    "test_value = []\n",
    "train_value = []\n",
    "z_test_value = []\n",
    "z_train_value = []\n",
    "for i in range(1000):\n",
    "    X_train, X_test, Y_train, Y_test = train_test_split(generated_x, generated_y, test_size=0.8)\n",
    "    PLS = PLSRegression(n_components=4)\n",
    "    PLS.fit(X_train,Y_train)\n",
    "    y_test_pred = PLS.predict(x_test)\n",
    "    test_r_2 = rmse(y_test,y_test_pred)\n",
    "    print('测试集%s'%test_r_2)\n",
    "    y_train_pred = PLS.predict(x_train)\n",
    "    train_r_2 = rmse(y_train,y_train_pred)\n",
    "    print('训练集%s'%train_r_2)\n",
    "    z_train_pred = PLS.predict(X_train)\n",
    "    z_train_r_2 = rmse(Y_train,z_train_pred)\n",
    "    print('测试集%s'%z_train_r_2)\n",
    "    X_train_container.append(X_train)\n",
    "    Y_train_container.append(Y_train)\n",
    "    \n",
    "    test_value.append(test_r_2)\n",
    "    train_value.append(train_r_2)\n",
    "    z_train_value.append(z_train_r_2)\n",
    "    print('*'*100)\n",
    "    print(i)"
   ]
  },
  {
   "cell_type": "code",
   "execution_count": null,
   "id": "cellular-subject",
   "metadata": {},
   "outputs": [],
   "source": [
    "test_value = np.array(test_value)\n",
    "train_value = np.array(train_value)\n",
    "z_train_value = np.array(z_train_value)"
   ]
  },
  {
   "cell_type": "code",
   "execution_count": null,
   "id": "excess-devices",
   "metadata": {},
   "outputs": [],
   "source": [
    "#找出最优下标\n",
    "signpost = 0\n",
    "signpost = test_value[0] + train_value[0]\n",
    "j = 0\n",
    "for i in range(1000):\n",
    "    if test_value[i] + train_value[i] <= signpost:\n",
    "        print(i)\n",
    "        signpost = test_value[i] + train_value[i]\n",
    "        j = i\n",
    "    else:\n",
    "        continue"
   ]
  },
  {
   "cell_type": "code",
   "execution_count": null,
   "id": "abroad-potato",
   "metadata": {},
   "outputs": [],
   "source": [
    "X_train_container = np.array(X_train_container)\n",
    "Y_train_container = np.array(Y_train_container)\n",
    "print(X_train_container.shape)\n",
    "print(X_train_container.shape)\n",
    "select_x = X_train_container[j]\n",
    "select_y = Y_train_container[j]"
   ]
  },
  {
   "cell_type": "code",
   "execution_count": null,
   "id": "70acf729",
   "metadata": {},
   "outputs": [],
   "source": [
    "PLS = PLSRegression(n_components=4)\n",
    "PLS.fit(select_x,select_y)\n",
    "y_pre = PLS.predict(x_test)\n",
    "value_1 = r2_score(y_test,y_pre)\n",
    "print('测试集%s'%value_1)\n",
    "rm = rmse(y_test,y_pre)\n",
    "print('测试集%s'%rm)\n",
    "y_pre = PLS.predict(x_train)\n",
    "value_1 = r2_score(y_train,y_pre)\n",
    "print('测试集%s'%value_1)\n",
    "rm = rmse(y_train,y_pre)\n",
    "print('测试集%s'%rm)\n",
    "y_pre = PLS.predict(select_x)\n",
    "value_1 = r2_score(select_y,y_pre)\n",
    "print('测试集%s'%value_1)\n",
    "rm = rmse(select_y,y_pre)\n",
    "print('测试集%s'%rm)"
   ]
  },
  {
   "cell_type": "code",
   "execution_count": null,
   "id": "crude-spending",
   "metadata": {},
   "outputs": [],
   "source": [
    "os.chdir(r'D:\\Major_revision\\Major_RevisondataSet')\n",
    "np.save('XfromX1.npy',select_x)#如果文件路径末尾没有扩展名.npy，该扩展名会被自动加上\n",
    "np.save('YfromY1.npy',select_y)"
   ]
  },
  {
   "cell_type": "code",
   "execution_count": null,
   "id": "moral-measure",
   "metadata": {},
   "outputs": [],
   "source": []
  },
  {
   "cell_type": "code",
   "execution_count": null,
   "id": "ethical-dover",
   "metadata": {},
   "outputs": [],
   "source": []
  }
 ],
 "metadata": {
  "kernelspec": {
   "display_name": "Python 3 (ipykernel)",
   "language": "python",
   "name": "python3"
  },
  "language_info": {
   "codemirror_mode": {
    "name": "ipython",
    "version": 3
   },
   "file_extension": ".py",
   "mimetype": "text/x-python",
   "name": "python",
   "nbconvert_exporter": "python",
   "pygments_lexer": "ipython3",
   "version": "3.8.3"
  },
  "toc": {
   "base_numbering": 1,
   "nav_menu": {},
   "number_sections": true,
   "sideBar": true,
   "skip_h1_title": false,
   "title_cell": "Table of Contents",
   "title_sidebar": "Contents",
   "toc_cell": false,
   "toc_position": {},
   "toc_section_display": true,
   "toc_window_display": false
  },
  "varInspector": {
   "cols": {
    "lenName": 16,
    "lenType": 16,
    "lenVar": 40
   },
   "kernels_config": {
    "python": {
     "delete_cmd_postfix": "",
     "delete_cmd_prefix": "del ",
     "library": "var_list.py",
     "varRefreshCmd": "print(var_dic_list())"
    },
    "r": {
     "delete_cmd_postfix": ") ",
     "delete_cmd_prefix": "rm(",
     "library": "var_list.r",
     "varRefreshCmd": "cat(var_dic_list()) "
    }
   },
   "types_to_exclude": [
    "module",
    "function",
    "builtin_function_or_method",
    "instance",
    "_Feature"
   ],
   "window_display": false
  }
 },
 "nbformat": 4,
 "nbformat_minor": 5
}
