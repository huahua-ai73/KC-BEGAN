{
 "cells": [
  {
   "cell_type": "code",
   "execution_count": null,
   "id": "24007f7b",
   "metadata": {
    "ExecuteTime": {
     "end_time": "2023-04-20T12:09:41.682027Z",
     "start_time": "2023-04-20T12:09:40.301764Z"
    }
   },
   "outputs": [],
   "source": [
    "import math\n",
    "import operator\n",
    "import matplotlib.pyplot as plt\n",
    "#python在读写matlab文件时常用到scipy.io文件\n",
    "import scipy.io as sio\n",
    "import openpyxl\n",
    "import pandas as pd\n",
    "import numpy as np\n",
    "import time\n",
    "import os \n",
    "\n",
    "import numpy as np\n",
    "#读取真实数据集\n",
    "from sklearn.manifold import TSNE\n",
    "#用全部真实数据集作为输入\n",
    "from sklearn.linear_model import LinearRegression\n",
    "from sklearn.model_selection import train_test_split\n",
    "from sklearn.metrics import *\n",
    "from sklearn.cross_decomposition import PLSRegression\n",
    "from sklearn import manifold, datasets\n",
    "import matplotlib"
   ]
  },
  {
   "cell_type": "code",
   "execution_count": null,
   "id": "1cd6754f",
   "metadata": {
    "ExecuteTime": {
     "end_time": "2023-04-20T12:09:44.630877Z",
     "start_time": "2023-04-20T12:09:44.611469Z"
    }
   },
   "outputs": [],
   "source": [
    "os.chdir(r'E:\\Major_revision\\Major_dataSet')\n",
    "x_train = np.load('trainx.npy')\n",
    "y_train = np.load('trainy.npy',allow_pickle=True)\n",
    "y_test = np.load('testy.npy',allow_pickle=True)\n",
    "x_test = np.load('testx.npy',allow_pickle=True)\n",
    "y_train = y_train.reshape(120,1)\n",
    "axis_x = np.load('axis_x.npy',allow_pickle=True)"
   ]
  },
  {
   "cell_type": "code",
   "execution_count": null,
   "id": "697e24bb",
   "metadata": {
    "ExecuteTime": {
     "end_time": "2023-04-20T12:10:05.775930Z",
     "start_time": "2023-04-20T12:10:05.759210Z"
    }
   },
   "outputs": [],
   "source": [
    "# 生成数据导入\n",
    "generated_x1 = np.load('XfromX1.npy', allow_pickle=True)\n",
    "generated_x2 = np.load('XfromX2.npy', allow_pickle=True)\n",
    "generated_x3 = np.load('XfromX3.npy', allow_pickle=True)\n",
    "generated_y1 = np.load('YfromY1.npy',allow_pickle = True).reshape(120,1)\n",
    "generated_y2 = np.load('YfromY2.npy',allow_pickle = True).reshape(120,1)\n",
    "generated_y3 = np.load('YfromY3.npy',allow_pickle = True).reshape(120,1)"
   ]
  },
  {
   "cell_type": "code",
   "execution_count": null,
   "id": "513f7be3",
   "metadata": {
    "ExecuteTime": {
     "end_time": "2023-04-20T13:04:48.931291Z",
     "start_time": "2023-04-20T13:04:48.908946Z"
    }
   },
   "outputs": [],
   "source": [
    "mix_x = np.vstack([x_train,generated_x3])"
   ]
  },
  {
   "cell_type": "code",
   "execution_count": null,
   "id": "9550ec90",
   "metadata": {
    "ExecuteTime": {
     "end_time": "2023-04-20T13:04:49.365788Z",
     "start_time": "2023-04-20T13:04:49.360838Z"
    },
    "scrolled": true
   },
   "outputs": [],
   "source": [
    "print(x_train.shape, generated_x1.shape, mix_x.shape)"
   ]
  },
  {
   "cell_type": "code",
   "execution_count": null,
   "id": "f7f3dead",
   "metadata": {
    "ExecuteTime": {
     "end_time": "2023-04-20T13:04:51.087013Z",
     "start_time": "2023-04-20T13:04:49.741310Z"
    }
   },
   "outputs": [],
   "source": [
    "from sklearn.decomposition import PCA\n",
    "pca = PCA(n_components=4, random_state=30)\n",
    "#给数据标准化\n",
    "mix_x1 = (mix_x - mix_x.mean())/np.std(mix_x)\n",
    "#给数据降维\n",
    "mix_x1 = pca.fit_transform(mix_x1)\n",
    "#类X的第J个主成分的得分平均值\n",
    "means = mix_x1.mean(axis=0)\n",
    "#给x_train均值中心化\n",
    "x_cen = mix_x1 - means\n",
    "x_ct = x_cen.T\n",
    "x_dot = np.dot(x_ct,x_cen)\n",
    "#a为特征值，b为特征向量\n",
    "a,b = np.linalg.eig(x_dot) \n",
    "contain = []\n",
    "import math\n",
    "for i in range(240):\n",
    "    c = 0\n",
    "    d = 0\n",
    "    for j in range(4):\n",
    "        c = ((mix_x1[i][j]-means[j])**2/a[j])*4\n",
    "        d = c+d\n",
    "    d = math.sqrt(d)\n",
    "    contain.append(d)\n",
    "j = 2.5\n",
    "contain = np.array(contain)\n",
    "std = np.std(contain)\n",
    "for i in range(240):\n",
    "    if contain[i]>(contain.mean()+j*std):\n",
    "        print(i)\n",
    "p = np.array(contain.mean()+j*std).repeat(120)\n",
    "plt.rcParams['font.sans-serif']=['Microsoft YaHei']   \n",
    "matplotlib.rcParams['font.family'] = 'sans-serif'  \n",
    "plt.rcParams['font.sans-serif']=['SimHei'] \n",
    "matplotlib.rcParams['font.sans-serif'] = 'NSimSun,Times New Roman'# 中文设置成宋体，除此之外的字体设置成New Roman  \n",
    "plt.figure(dpi=1200)\n",
    "xlim = np.arange(1,121,1)\n",
    "ylim = contain.reshape(240)\n",
    "plt.plot(xlim,p,linestyle='--',c='k',linewidth=1.5)\n",
    "plt.scatter(xlim,ylim[0:120],c='r',label = 'Real',s=8)\n",
    "plt.scatter(xlim,ylim[120:240],c='k',label = 'A',marker='x',s=8)\n",
    "plt.xlabel('Sample number')\n",
    "plt.ylabel('Mars distance')\n",
    "plt.legend(loc='upper right')\n",
    "print(p)\n",
    "plt.show()"
   ]
  },
  {
   "cell_type": "code",
   "execution_count": null,
   "id": "ad21435f",
   "metadata": {
    "ExecuteTime": {
     "end_time": "2023-04-20T12:11:59.805362Z",
     "start_time": "2023-04-20T12:11:59.801367Z"
    }
   },
   "outputs": [],
   "source": [
    "# os.chdir('E:\\Major_revision\\大修绘图\\马氏距离')\n",
    "# print(ylim[0],ylim[120])\n",
    "# ylim = ylim.reshape(240,1)\n",
    "# Result1 = ylim[0:120]\n",
    "# Result2 = ylim[120:240]\n",
    "# D = np.arange(1,121)\n",
    "# D = D.reshape(120,1)\n",
    "# Result = np.hstack([D, Result1, Result2])\n",
    "# print(Result)\n",
    "# np.savetxt(\"Marsx2&x.csv\", Result, delimiter=\",\" )\n",
    "# print(p)"
   ]
  },
  {
   "cell_type": "code",
   "execution_count": null,
   "id": "ff0072b5",
   "metadata": {
    "ExecuteTime": {
     "end_time": "2023-04-20T12:12:00.942681Z",
     "start_time": "2023-04-20T12:12:00.435164Z"
    }
   },
   "outputs": [],
   "source": [
    "from sklearn.decomposition import PCA\n",
    "pca = PCA(n_components=4, random_state=30)\n",
    "#给数据标准化\n",
    "mix_x1 = (mix_x - mix_x.mean())/np.std(mix_x)\n",
    "#给数据降维\n",
    "mix_x1 = pca.fit_transform(mix_x1)\n",
    "#类X的第J个主成分的得分平均值\n",
    "means = mix_x1.mean(axis=0)\n",
    "#给x_train均值中心化\n",
    "x_cen = mix_x1 - means\n",
    "x_ct = x_cen.T\n",
    "x_dot = np.dot(x_ct,x_cen)\n",
    "#a为特征值，b为特征向量\n",
    "a,b = np.linalg.eig(x_dot) \n",
    "contain = []\n",
    "import math\n",
    "for i in range(480):\n",
    "    c = 0\n",
    "    d = 0\n",
    "    for j in range(4):\n",
    "        c = ((mix_x1[i][j]-means[j])**2/a[j])*4\n",
    "        d = c+d\n",
    "    d = math.sqrt(d)\n",
    "    contain.append(d)\n",
    "j = 2.5\n",
    "contain = np.array(contain)\n",
    "std = np.std(contain)\n",
    "for i in range(480):\n",
    "    if contain[i]>(contain.mean()+j*std):\n",
    "        print(i)\n",
    "p = np.array(contain.mean()+j*std).repeat(120)\n",
    "plt.rcParams['font.sans-serif']=['Microsoft YaHei']   \n",
    "matplotlib.rcParams['font.family'] = 'sans-serif'  \n",
    "plt.rcParams['font.sans-serif']=['SimHei'] \n",
    "matplotlib.rcParams['font.sans-serif'] = 'NSimSun,Times New Roman'# 中文设置成宋体，除此之外的字体设置成New Roman  \n",
    "plt.figure(dpi=600)\n",
    "xlim = np.arange(1,121,1)\n",
    "ylim = contain.reshape(480)\n",
    "plt.plot(xlim,p,linestyle='--',c='k',linewidth=1.5)\n",
    "plt.scatter(xlim,ylim[0:120],c='r',label = 'Real',s=8)\n",
    "plt.scatter(xlim,ylim[120:240],c='k',label = 'A',marker='x',s=8)\n",
    "plt.scatter(xlim,ylim[240:360],c='k',label = 'B',marker='x',s=8)\n",
    "plt.scatter(xlim,ylim[360:480],c='k',label = 'C',marker='x',s=8)\n",
    "plt.xlabel('Sample number')\n",
    "plt.ylabel('Mars distance')\n",
    "plt.legend(loc='upper right')\n",
    "plt.show()"
   ]
  },
  {
   "cell_type": "code",
   "execution_count": null,
   "id": "d6f25be6",
   "metadata": {
    "ExecuteTime": {
     "end_time": "2023-04-20T12:12:10.251070Z",
     "start_time": "2023-04-20T12:12:10.226915Z"
    }
   },
   "outputs": [],
   "source": [
    "os.chdir('E:\\Major_revision\\大修绘图\\马氏距离')\n",
    "print(ylim[0],ylim[120])\n",
    "ylim = ylim.reshape(480,1)\n",
    "Result1 = ylim[0:120]\n",
    "Result2 = ylim[120:240]\n",
    "Result3 = ylim[240:360]\n",
    "Result4 = ylim[360:480]\n",
    "D = np.arange(1,121)\n",
    "D = D.reshape(120,1)\n",
    "Result = np.hstack([D, Result1, Result2, Result3, Result4])\n",
    "print(Result)\n",
    "np.savetxt(\"Marsall.csv\", Result, delimiter=\",\" )\n",
    "print(p)"
   ]
  },
  {
   "cell_type": "code",
   "execution_count": null,
   "id": "46997125",
   "metadata": {},
   "outputs": [],
   "source": []
  }
 ],
 "metadata": {
  "kernelspec": {
   "display_name": "Python 3 (ipykernel)",
   "language": "python",
   "name": "python3"
  },
  "language_info": {
   "codemirror_mode": {
    "name": "ipython",
    "version": 3
   },
   "file_extension": ".py",
   "mimetype": "text/x-python",
   "name": "python",
   "nbconvert_exporter": "python",
   "pygments_lexer": "ipython3",
   "version": "3.8.3"
  },
  "toc": {
   "base_numbering": 1,
   "nav_menu": {},
   "number_sections": true,
   "sideBar": true,
   "skip_h1_title": false,
   "title_cell": "Table of Contents",
   "title_sidebar": "Contents",
   "toc_cell": false,
   "toc_position": {},
   "toc_section_display": true,
   "toc_window_display": false
  },
  "varInspector": {
   "cols": {
    "lenName": 16,
    "lenType": 16,
    "lenVar": 40
   },
   "kernels_config": {
    "python": {
     "delete_cmd_postfix": "",
     "delete_cmd_prefix": "del ",
     "library": "var_list.py",
     "varRefreshCmd": "print(var_dic_list())"
    },
    "r": {
     "delete_cmd_postfix": ") ",
     "delete_cmd_prefix": "rm(",
     "library": "var_list.r",
     "varRefreshCmd": "cat(var_dic_list()) "
    }
   },
   "types_to_exclude": [
    "module",
    "function",
    "builtin_function_or_method",
    "instance",
    "_Feature"
   ],
   "window_display": false
  }
 },
 "nbformat": 4,
 "nbformat_minor": 5
}
