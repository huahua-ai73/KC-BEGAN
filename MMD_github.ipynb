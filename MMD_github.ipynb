{
 "cells": [
  {
   "cell_type": "code",
   "execution_count": null,
   "id": "9458edfa",
   "metadata": {
    "ExecuteTime": {
     "end_time": "2023-04-21T08:03:52.072154Z",
     "start_time": "2023-04-21T08:03:52.061148Z"
    }
   },
   "outputs": [],
   "source": [
    "import numpy as np\n",
    "import os"
   ]
  },
  {
   "cell_type": "code",
   "execution_count": null,
   "id": "37ef8ce0",
   "metadata": {
    "ExecuteTime": {
     "end_time": "2023-04-21T08:03:52.461463Z",
     "start_time": "2023-04-21T08:03:52.446457Z"
    }
   },
   "outputs": [],
   "source": [
    "os.chdir(r'E:\\Major_revision\\Major_dataSet')\n",
    "x_train = np.load('trainx.npy').astype('float16')\n",
    "y_train = np.load('trainy.npy',allow_pickle=True).reshape(120)\n",
    "y_test = np.load('testy.npy',allow_pickle=True)\n",
    "x_test = np.load('testx.npy',allow_pickle=True)\n",
    "generated_x1 = np.load('XfromX1.npy', allow_pickle=True).reshape(120,2500)\n",
    "generated_x2 = np.load('XfromX2.npy', allow_pickle=True).reshape(120,2500)\n",
    "generated_x3 = np.load('XfromX3.npy', allow_pickle=True).reshape(120,2500)\n",
    "generated_y1 = np.load('YfromY1.npy',allow_pickle = True).reshape(120)\n",
    "generated_y2 = np.load('YfromY2.npy',allow_pickle = True).reshape(120)\n",
    "generated_y3 = np.load('YfromY3.npy',allow_pickle = True).reshape(120)"
   ]
  },
  {
   "cell_type": "code",
   "execution_count": null,
   "id": "8803aaa9",
   "metadata": {
    "ExecuteTime": {
     "end_time": "2023-04-21T08:03:52.880203Z",
     "start_time": "2023-04-21T08:03:52.866003Z"
    }
   },
   "outputs": [],
   "source": [
    "def linear_mmd(X, Y, sigma):\n",
    "    K_xx = np.exp(-np.sum((X[:, np.newaxis] - X[np.newaxis, :]) ** 2, axis=-1) / (2 * sigma ** 2))\n",
    "    K_yy = np.exp(-np.sum((Y[:, np.newaxis] - Y[np.newaxis, :]) ** 2, axis=-1) / (2 * sigma ** 2))\n",
    "    K_xy = np.exp(-np.sum((X[:, np.newaxis] - Y[np.newaxis, :]) ** 2, axis=-1) / (2 * sigma ** 2))\n",
    "    mmd = np.mean(K_xx) + np.mean(K_yy) - 2 * np.mean(K_xy)\n",
    "    return np.sqrt(np.maximum(mmd, 0))\n",
    "sigma = 1.0"
   ]
  },
  {
   "cell_type": "code",
   "execution_count": null,
   "id": "ba41ef17",
   "metadata": {
    "ExecuteTime": {
     "end_time": "2023-04-21T08:26:17.887747Z",
     "start_time": "2023-04-21T08:26:17.871399Z"
    }
   },
   "outputs": [],
   "source": [
    "def Cal_mmd(sample1, sample2):\n",
    "    contain = []\n",
    "    row_rand_array1 = np.arange(sample1.shape[0])\n",
    "    row_rand_array2 = np.arange(sample1.shape[0])\n",
    "    for i in range(40):\n",
    "        np.random.shuffle(row_rand_array1)\n",
    "        np.random.shuffle(row_rand_array2)\n",
    "        row_rand1 = sample1[row_rand_array1[0:30]]# 第一个整体的随机30行\n",
    "        row_rand2 = sample2[row_rand_array2[0:30]]# 第二个整体的随机30行\n",
    "        mmd = linear_mmd(row_rand1, row_rand2, sigma)\n",
    "        contain.append(mmd)\n",
    "    return contain"
   ]
  },
  {
   "cell_type": "code",
   "execution_count": null,
   "id": "fd31c368",
   "metadata": {
    "ExecuteTime": {
     "end_time": "2023-04-21T08:30:54.746700Z",
     "start_time": "2023-04-21T08:30:54.740155Z"
    }
   },
   "outputs": [],
   "source": [
    "os.chdir(r'E:\\Major_revision\\MMD&统计学评价')"
   ]
  },
  {
   "cell_type": "code",
   "execution_count": null,
   "id": "df38f6f5",
   "metadata": {
    "ExecuteTime": {
     "end_time": "2023-04-21T08:31:00.413801Z",
     "start_time": "2023-04-21T08:30:55.765040Z"
    }
   },
   "outputs": [],
   "source": [
    "x_mmd = Cal_mmd(x_train, x_train)\n",
    "np.save(\"X_mmd.npy\",x_mmd)"
   ]
  },
  {
   "cell_type": "code",
   "execution_count": null,
   "id": "99024b8a",
   "metadata": {
    "ExecuteTime": {
     "end_time": "2023-04-21T08:31:29.495965Z",
     "start_time": "2023-04-21T08:31:27.269277Z"
    }
   },
   "outputs": [],
   "source": [
    "A_mmd = Cal_mmd(x_train, generated_x1)\n",
    "np.save(\"A_mmd.npy\",A_mmd)"
   ]
  },
  {
   "cell_type": "code",
   "execution_count": null,
   "id": "d47ebac8",
   "metadata": {
    "ExecuteTime": {
     "end_time": "2023-04-21T08:32:07.695317Z",
     "start_time": "2023-04-21T08:32:05.493824Z"
    }
   },
   "outputs": [],
   "source": [
    "B_mmd = Cal_mmd(x_train, generated_x2)\n",
    "np.save(\"B_mmd.npy\",B_mmd)"
   ]
  },
  {
   "cell_type": "code",
   "execution_count": null,
   "id": "b9aaef83",
   "metadata": {
    "ExecuteTime": {
     "end_time": "2023-04-21T08:33:30.435265Z",
     "start_time": "2023-04-21T08:33:28.257664Z"
    }
   },
   "outputs": [],
   "source": [
    "C_mmd = Cal_mmd(x_train, generated_x3)\n",
    "np.save(\"C_mmd.npy\",C_mmd)"
   ]
  },
  {
   "cell_type": "code",
   "execution_count": null,
   "id": "11ab56c9",
   "metadata": {},
   "outputs": [],
   "source": [
    "os.chdir(r'E:\\Major_revision\\MMD&统计学评价')\n",
    "X_mmd = np.load('X_mmd.npy',allow_pickle=True)\n",
    "A_mmd = np.load('A_mmd.npy',allow_pickle=True)\n",
    "B_mmd = np.load('B_mmd.npy',allow_pickle=True)\n",
    "C_mmd = np.load('C_mmd.npy',allow_pickle=True)"
   ]
  },
  {
   "cell_type": "code",
   "execution_count": null,
   "id": "545b9c3a",
   "metadata": {},
   "outputs": [],
   "source": [
    "print(X_mmd.max(), X_mmd.min(), X_mmd.mean(), X_mmd.std())\n",
    "print(A_mmd.max(), A_mmd.min(), A_mmd.mean(), A_mmd.std())\n",
    "print(B_mmd.max(), B_mmd.min(), B_mmd.mean(), B_mmd.std())\n",
    "print(C_mmd.max(), C_mmd.min(), C_mmd.mean(), C_mmd.std())"
   ]
  }
 ],
 "metadata": {
  "kernelspec": {
   "display_name": "Python 3 (ipykernel)",
   "language": "python",
   "name": "python3"
  },
  "language_info": {
   "codemirror_mode": {
    "name": "ipython",
    "version": 3
   },
   "file_extension": ".py",
   "mimetype": "text/x-python",
   "name": "python",
   "nbconvert_exporter": "python",
   "pygments_lexer": "ipython3",
   "version": "3.8.3"
  },
  "toc": {
   "base_numbering": 1,
   "nav_menu": {},
   "number_sections": true,
   "sideBar": true,
   "skip_h1_title": false,
   "title_cell": "Table of Contents",
   "title_sidebar": "Contents",
   "toc_cell": false,
   "toc_position": {},
   "toc_section_display": true,
   "toc_window_display": false
  },
  "varInspector": {
   "cols": {
    "lenName": 16,
    "lenType": 16,
    "lenVar": 40
   },
   "kernels_config": {
    "python": {
     "delete_cmd_postfix": "",
     "delete_cmd_prefix": "del ",
     "library": "var_list.py",
     "varRefreshCmd": "print(var_dic_list())"
    },
    "r": {
     "delete_cmd_postfix": ") ",
     "delete_cmd_prefix": "rm(",
     "library": "var_list.r",
     "varRefreshCmd": "cat(var_dic_list()) "
    }
   },
   "types_to_exclude": [
    "module",
    "function",
    "builtin_function_or_method",
    "instance",
    "_Feature"
   ],
   "window_display": false
  }
 },
 "nbformat": 4,
 "nbformat_minor": 5
}
