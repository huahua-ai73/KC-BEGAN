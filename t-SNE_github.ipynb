{
 "cells": [
  {
   "cell_type": "code",
   "execution_count": null,
   "id": "bbaaf8ec",
   "metadata": {
    "ExecuteTime": {
     "end_time": "2023-04-20T13:47:02.097621Z",
     "start_time": "2023-04-20T13:47:02.066637Z"
    }
   },
   "outputs": [],
   "source": [
    "#导入数据和包\n",
    "import os \n",
    "import numpy as np\n",
    "#读取真实数据集\n",
    "from sklearn.manifold import TSNE\n",
    "#用全部真实数据集作为输入\n",
    "import matplotlib.pyplot as plt\n",
    "from sklearn.cross_decomposition import PLSRegression\n",
    "import matplotlib\n",
    "from matplotlib import cm\n",
    "from mpl_toolkits.mplot3d.axes3d import get_test_data\n",
    "# This import registers the 3D projection, but is otherwise unused.\n",
    "from mpl_toolkits.mplot3d import Axes3D  # noqa: F401 unused import\n",
    "from sklearn import manifold, datasets"
   ]
  },
  {
   "cell_type": "code",
   "execution_count": null,
   "id": "79929087",
   "metadata": {
    "ExecuteTime": {
     "end_time": "2023-04-20T13:50:26.539596Z",
     "start_time": "2023-04-20T13:50:26.514564Z"
    }
   },
   "outputs": [],
   "source": [
    "os.chdir(r'E:\\Major_revision\\Major_dataSet')\n",
    "x = np.load('trainx.npy',allow_pickle=True)\n",
    "generated_x1 = np.load('XfromX1.npy', allow_pickle=True)\n",
    "generated_x2 = np.load('XfromX2.npy', allow_pickle=True)\n",
    "generated_x3 = np.load('XfromX3.npy', allow_pickle=True)\n",
    "axis_x = np.load('axis_x.npy',allow_pickle=True)\n",
    "mix_x = np.vstack([x, generated_x1])\n",
    "print(mix_x.shape)"
   ]
  },
  {
   "cell_type": "code",
   "execution_count": null,
   "id": "7b0b9f75",
   "metadata": {
    "ExecuteTime": {
     "end_time": "2023-04-20T13:50:26.882169Z",
     "start_time": "2023-04-20T13:50:26.869877Z"
    }
   },
   "outputs": [],
   "source": [
    "plt.rcParams['font.family'] = 'Times New Roman'\n",
    "plt.rcParams['font.size'] = 7.5\n",
    "plt.rcParams['axes.linewidth'] = 1\n",
    "# 设置图例标题大小\n",
    "# 设置xtick和ytick的方向：in、out、inout\n",
    "plt.rcParams['xtick.direction'] = 'in'\n",
    "plt.rcParams['ytick.direction'] = 'in'\n",
    "plt.rcParams['legend.title_fontsize'] = 7.5\n",
    "matplotlib.rcParams['font.family'] = 'sans-serif'  \n",
    "matplotlib.rcParams['font.sans-serif'] = 'NSimSun,Times New Roman'# 中文设置成宋体，除此之外的字体设置成New Roman  \n",
    "# plt.figure(figsize=(4,3), dpi=650)"
   ]
  },
  {
   "cell_type": "code",
   "execution_count": null,
   "id": "4405f455",
   "metadata": {
    "ExecuteTime": {
     "end_time": "2023-04-20T13:50:28.903105Z",
     "start_time": "2023-04-20T13:50:27.258192Z"
    }
   },
   "outputs": [],
   "source": [
    "# 处理数据\n",
    "n_neighbors = 30\n",
    "n_components = 3\n",
    "# t-SNE的降维与可视化\n",
    "ts = manifold.TSNE(n_components=n_components,perplexity=50)\n",
    "# 训练模型\n",
    "y = ts.fit_transform(mix_x)"
   ]
  },
  {
   "cell_type": "code",
   "execution_count": null,
   "id": "19352b16",
   "metadata": {
    "ExecuteTime": {
     "end_time": "2023-04-20T13:50:30.243974Z",
     "start_time": "2023-04-20T13:50:29.015436Z"
    }
   },
   "outputs": [],
   "source": [
    "# set up a figure twice as wide as it is tall\n",
    "fig = plt.figure(figsize=(6, 8), dpi=1200, facecolor='white')\n",
    "# 第一幅图\n",
    "ax = fig.add_subplot(1, 2, 1, projection='3d', facecolor = 'white')\n",
    "for i in range(120):\n",
    "    g1 = ax.scatter(y[i, 0], y[i, 1], y[i, 2], c='b', depthshade=True, cmap='jet',s=8, marker=\"^\")\n",
    "for i in range(120):\n",
    "    g2 = ax.scatter(y[i+120, 0], y[i+120, 1], y[i+120, 2],c='orange', depthshade=True, cmap='jet',s=8, marker=\"^\")\n",
    "# for i in range(120):\n",
    "#     g2 = ax.scatter(y[i+240, 0], y[i+240, 1], y[i+240, 2],c='yellow', depthshade=True, cmap='jet',s=8, marker=\"^\")\n",
    "# for i in range(120):\n",
    "#     g2 = ax.scatter(y[i+360, 0], y[i+360, 1], y[i+360, 2],c='k', depthshade=True, cmap='jet',s=8, marker=\"^\")\n",
    "fonts = 8\n",
    "ax.set_xticks([])\n",
    "ax.set_yticks([])\n",
    "ax.set_zticks([])\n",
    "# ax.set_xlabel('X1')\n",
    "# ax.set_ylabel('X2')\n",
    "# ax.set_zlabel('X3')\n",
    "plt.yticks(fontsize=fonts)\n",
    "plt.xticks(fontsize=fonts)\n",
    "# plt.legend(handles=[g1, g2], labels=['Real', 'A'], loc = 'center right',frameon=False,fontsize=6)\n",
    "# plt.title('T-SNE', fontsize=fonts)\n",
    "ax.view_init(10, -45)\n",
    "ax.grid(False)\n",
    "# # 第二幅图\n",
    "# ax = fig.add_subplot(1, 2, 2, projection='3d')\n",
    "\n",
    "# # plot a 3D wireframe like in the example mplot3d/wire3d_demo\n",
    "# X, Y, Z = get_test_data(0.05)\n",
    "# ax.plot_wireframe(X, Y, Z, rstride=10, cstride=10)\n",
    "# ax.grid(False)\n",
    "plt.show()"
   ]
  },
  {
   "cell_type": "code",
   "execution_count": null,
   "id": "4618b416",
   "metadata": {
    "ExecuteTime": {
     "end_time": "2023-04-20T12:06:07.364897Z",
     "start_time": "2023-04-20T12:06:07.350517Z"
    }
   },
   "outputs": [],
   "source": [
    "# print(y.shape)\n",
    "# A = np.ones([120,1])\n",
    "# B = A+A\n",
    "# C = np.vstack([A,B])\n",
    "# print(C)\n",
    "# y = np.hstack([y, C])\n",
    "# print(y)\n",
    "# os.chdir('E:/Major_revision/大修绘图/t-SNE')\n",
    "# np.savetxt(\"t-SNEx3&x.csv\", y, delimiter=\",\" )"
   ]
  },
  {
   "cell_type": "code",
   "execution_count": null,
   "id": "f5eb21ea",
   "metadata": {
    "ExecuteTime": {
     "end_time": "2023-04-20T13:50:37.803835Z",
     "start_time": "2023-04-20T13:50:37.772615Z"
    }
   },
   "outputs": [],
   "source": [
    "print(y.shape)\n",
    "A = np.ones([120,1])\n",
    "B = A+A\n",
    "C = np.vstack([A,B])\n",
    "print(C)\n",
    "y = np.hstack([y, C])\n",
    "print(y)\n",
    "os.chdir('E:/Major_revision/大修绘图/t-SNE')\n",
    "np.savetxt(\"t-SNEx1&x.csv\", y, delimiter=\",\" )"
   ]
  },
  {
   "cell_type": "code",
   "execution_count": null,
   "id": "7fe50075",
   "metadata": {
    "ExecuteTime": {
     "end_time": "2023-04-20T13:50:37.881367Z",
     "start_time": "2023-04-20T13:50:37.867383Z"
    }
   },
   "outputs": [],
   "source": [
    "# print(y.shape)\n",
    "# A = np.ones([120,1])\n",
    "# B = A+A\n",
    "# C = A+A\n",
    "# D = A+A\n",
    "# E = np.vstack([A,B,C,D])\n",
    "# print(E)\n",
    "# y = np.hstack([y, E])\n",
    "# print(y)\n",
    "# os.chdir('E:/Major_revision/大修绘图/t-SNE')\n",
    "# np.savetxt(\"t-SNEall.csv\", y, delimiter=\",\" )"
   ]
  },
  {
   "cell_type": "code",
   "execution_count": null,
   "id": "6c1962ad",
   "metadata": {},
   "outputs": [],
   "source": []
  }
 ],
 "metadata": {
  "kernelspec": {
   "display_name": "Python 3 (ipykernel)",
   "language": "python",
   "name": "python3"
  },
  "language_info": {
   "codemirror_mode": {
    "name": "ipython",
    "version": 3
   },
   "file_extension": ".py",
   "mimetype": "text/x-python",
   "name": "python",
   "nbconvert_exporter": "python",
   "pygments_lexer": "ipython3",
   "version": "3.8.3"
  },
  "toc": {
   "base_numbering": 1,
   "nav_menu": {},
   "number_sections": true,
   "sideBar": true,
   "skip_h1_title": false,
   "title_cell": "Table of Contents",
   "title_sidebar": "Contents",
   "toc_cell": false,
   "toc_position": {},
   "toc_section_display": true,
   "toc_window_display": false
  },
  "varInspector": {
   "cols": {
    "lenName": 16,
    "lenType": 16,
    "lenVar": 40
   },
   "kernels_config": {
    "python": {
     "delete_cmd_postfix": "",
     "delete_cmd_prefix": "del ",
     "library": "var_list.py",
     "varRefreshCmd": "print(var_dic_list())"
    },
    "r": {
     "delete_cmd_postfix": ") ",
     "delete_cmd_prefix": "rm(",
     "library": "var_list.r",
     "varRefreshCmd": "cat(var_dic_list()) "
    }
   },
   "types_to_exclude": [
    "module",
    "function",
    "builtin_function_or_method",
    "instance",
    "_Feature"
   ],
   "window_display": false
  }
 },
 "nbformat": 4,
 "nbformat_minor": 5
}
