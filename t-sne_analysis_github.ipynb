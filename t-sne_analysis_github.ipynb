{
 "cells": [
  {
   "cell_type": "code",
   "execution_count": null,
   "id": "e77b640a",
   "metadata": {
    "ExecuteTime": {
     "end_time": "2023-04-21T11:05:46.021026Z",
     "start_time": "2023-04-21T11:05:41.462116Z"
    }
   },
   "outputs": [],
   "source": [
    "# 多个正态总体的均值向量和协方差阵同时检验\n",
    "import numpy as np\n",
    "import math\n",
    "import matplotlib.pyplot as plt\n",
    "from sklearn import manifold\n",
    "import os\n",
    "import pandas as pd"
   ]
  },
  {
   "cell_type": "code",
   "execution_count": null,
   "id": "2a0cdd1e",
   "metadata": {
    "ExecuteTime": {
     "end_time": "2023-04-21T11:05:46.036911Z",
     "start_time": "2023-04-21T11:05:46.024493Z"
    }
   },
   "outputs": [],
   "source": [
    "# 各组均值向量\n",
    "def single_mean(vector):#vector为需要计算的单个正太总体（对其按行求均值）\n",
    "    single_vector = np.mean(vector,axis=0)\n",
    "#     print('单个均值向量%s'%single_vector)\n",
    "    return single_vector  "
   ]
  },
  {
   "cell_type": "code",
   "execution_count": null,
   "id": "1b4f640e",
   "metadata": {
    "ExecuteTime": {
     "end_time": "2023-04-21T11:05:46.052215Z",
     "start_time": "2023-04-21T11:05:46.038902Z"
    }
   },
   "outputs": [],
   "source": [
    "def all_mean(vector_01,vector_02,k):#k=组别数\n",
    "    all_vector = np.vstack([vector_01,vector_02])\n",
    "    all_vector = np.mean(all_vector,axis=0)\n",
    "#     print('总均值向量%s'%all_vector)\n",
    "    return all_vector"
   ]
  },
  {
   "cell_type": "code",
   "execution_count": null,
   "id": "3a92c243",
   "metadata": {
    "ExecuteTime": {
     "end_time": "2023-04-21T11:05:46.068245Z",
     "start_time": "2023-04-21T11:05:46.054742Z"
    }
   },
   "outputs": [],
   "source": [
    "# 单类别总体的离差样本阵\n",
    "def single_A(vector):#输入单个类别\n",
    "    single_vector = single_mean(vector)# 该组别均值向量\n",
    "    constant_A = np.zeros([vector.shape[1],vector.shape[1]]) \n",
    "    for i in range(vector.shape[0]):# n_t = vector.shape[0],相当于单组别采集次数\n",
    "        variable_0 = (vector[i] - single_vector).reshape(1,vector.shape[1])# 更改形状，vector.shape[1] = p = 光谱采集点数\n",
    "        variable_1 = variable_0.T\n",
    "        variable_2 = np.dot(variable_1,variable_0)\n",
    "        constant_A = constant_A + variable_2\n",
    "#     print('单个A%s'%constant_A)\n",
    "    return constant_A\n",
    "def all_A(vector_01,vector_02): # 全部总体的离差样本阵\n",
    "    constant_all_A = single_A(vector_01)+single_A(vector_02)\n",
    "#     print('总A%s'%constant_all_A)\n",
    "    return constant_all_A"
   ]
  },
  {
   "cell_type": "code",
   "execution_count": null,
   "id": "5de4a9eb",
   "metadata": {
    "ExecuteTime": {
     "end_time": "2023-04-21T11:05:46.083418Z",
     "start_time": "2023-04-21T11:05:46.070239Z"
    }
   },
   "outputs": [],
   "source": [
    "def all_T(vector_01,vector_02, n, k):#n为全类别总共采集次数\n",
    "    A = all_A(vector_01,vector_02)\n",
    "    # print(A)\n",
    "    all_vector = all_mean(vector_01,vector_02, k).reshape(1,vector_01.shape[1])# 整体均值向量\n",
    "    # print('a%s'%all_vector)\n",
    "    single_vector_01 = single_mean(vector_01).reshape(1,vector_01.shape[1])\n",
    "    single_vector_02 = single_mean(vector_02).reshape(1,vector_01.shape[1])\n",
    "\n",
    "    D1 = single_vector_01-all_vector \n",
    "    D2 = single_vector_02-all_vector\n",
    "#     print('D%s'%D1)\n",
    "    T = vector_01.shape[0]*np.dot(D1.T,D1)+vector_02.shape[0]*np.dot(D2.T,D2) + A# vector_01.shape[0]=n_t\n",
    "#     print('D1%s'%(vector_01.shape[0]*np.dot(D1.T,D1)+vector_02.shape[0]*np.dot(D2.T,D2)))\n",
    "\n",
    "    return T"
   ]
  },
  {
   "cell_type": "code",
   "execution_count": null,
   "id": "d928a2a1",
   "metadata": {
    "ExecuteTime": {
     "end_time": "2023-04-21T11:05:46.099036Z",
     "start_time": "2023-04-21T11:05:46.084913Z"
    }
   },
   "outputs": [],
   "source": [
    "def ca_f(vector,k):# k = 组别数\n",
    "    p = vector.shape[1]# p = 变量个数\n",
    "    f = (p*(p+3)*(k-1))/2\n",
    "    return f"
   ]
  },
  {
   "cell_type": "code",
   "execution_count": null,
   "id": "4ed790ab",
   "metadata": {
    "ExecuteTime": {
     "end_time": "2023-04-21T11:05:46.114847Z",
     "start_time": "2023-04-21T11:05:46.100037Z"
    }
   },
   "outputs": [],
   "source": [
    "def ca_b(vector_01,vector_02, n, k):# k=组别数,这里默认为4,n为全类别总共采集次数\n",
    "    # 1/(n_i-1)的连加\n",
    "    v1 = 1/(vector_01.shape[0]-1)+1/(vector_02.shape[0]-1)\n",
    "    # 1/(n-k)\n",
    "    v2 = 1/(n-k)\n",
    "    # (2*p^2+3p-1)/(6(p+3)(k-1)),p=vector_01.shape[1]为变量个数\n",
    "    v3 = (2*math.pow(vector_01.shape[1],2)+3*vector_01.shape[1]-1)/(6*(vector_01.shape[1]+3)*(k-1))\n",
    "    # 最后一项\n",
    "    v4 = (vector_01.shape[1]-k+2)/((n-k)*(vector_01.shape[1]+3))\n",
    "    b = (v1-v2)*(v3)-(v4)\n",
    "    print('b%s'%b)\n",
    "    return b"
   ]
  },
  {
   "cell_type": "code",
   "execution_count": null,
   "id": "64e6784d",
   "metadata": {
    "ExecuteTime": {
     "end_time": "2023-04-21T11:05:46.130516Z",
     "start_time": "2023-04-21T11:05:46.116320Z"
    }
   },
   "outputs": [],
   "source": [
    "def lamda_5star(vector_01,vector_02,n,k):\n",
    "    # print(vector_01.shape[0])\n",
    "#     print(single_A(vector_03))\n",
    "#     print(np.linalg.det(single_A(vector_03)))\n",
    "    s = np.linalg.det(all_T(vector_01,vector_02,n,k)/(n-k))\n",
    "    s1 = np.linalg.det(single_A(vector_01)/(vector_01.shape[0]-1))\n",
    "    s2 = np.linalg.det(single_A(vector_02)/(vector_02.shape[0]-1))\n",
    "    print(s,s1,s2)\n",
    "    T = ((n-k)/2)*np.log(s)\n",
    "    A1 = ((vector_01.shape[0]-1)/2)*np.log(s1)\n",
    "    A2 = ((vector_02.shape[0]-1)/2)*np.log(s2)\n",
    "    lamda = (-2)*((A1+A2)-T)\n",
    "    return lamda"
   ]
  },
  {
   "cell_type": "code",
   "execution_count": null,
   "id": "2dacb54d",
   "metadata": {
    "ExecuteTime": {
     "end_time": "2023-04-21T11:05:46.146171Z",
     "start_time": "2023-04-21T11:05:46.131513Z"
    }
   },
   "outputs": [],
   "source": [
    "def cal_epsilon(vector_01,vector_02,n,k):\n",
    "    lamda = lamda_5star(vector_01,vector_02,n,k)\n",
    "    b = ca_b(vector_01,vector_02, n, k)\n",
    "    epsilon = (1-b)*lamda\n",
    "    return epsilon\n",
    "    \n",
    "    "
   ]
  },
  {
   "cell_type": "code",
   "execution_count": null,
   "id": "89f50d3f",
   "metadata": {
    "ExecuteTime": {
     "end_time": "2023-04-21T11:05:46.161644Z",
     "start_time": "2023-04-21T11:05:46.147133Z"
    }
   },
   "outputs": [],
   "source": [
    "# 标准化\n",
    "def ZscoreNormalization(x):\n",
    "    \"\"\"Z-score normaliaztion\"\"\"\n",
    "    x = (x - np.mean(x)) / np.std(x)\n",
    "    return x"
   ]
  },
  {
   "cell_type": "code",
   "execution_count": null,
   "id": "6c3ae552",
   "metadata": {
    "ExecuteTime": {
     "end_time": "2023-04-21T11:05:46.223768Z",
     "start_time": "2023-04-21T11:05:46.163640Z"
    }
   },
   "outputs": [],
   "source": [
    "os.chdir(r'E:\\Major_revision\\大修绘图\\t-SNE')\n",
    "data0 = pd.read_csv('t-SNEx1&x.csv')\n",
    "data1 = pd.read_csv('t-SNEx2&x.csv')\n",
    "data2 = pd.read_csv('t-SNEx3&x.csv')\n",
    "data3 = pd.read_csv('t-SNEall.csv')\n",
    "data0 = np.array(data0)\n",
    "data0 = data0[:,0:3]\n",
    "data1 = np.array(data1)\n",
    "data1 = data1[:,0:3]\n",
    "data2 = np.array(data2)\n",
    "data2 = data2[:,0:3]\n",
    "data3 = np.array(data3)\n",
    "data3 = data3[:,0:3]"
   ]
  },
  {
   "cell_type": "code",
   "execution_count": null,
   "id": "6dc5d7fe",
   "metadata": {
    "ExecuteTime": {
     "end_time": "2023-04-21T11:05:46.255635Z",
     "start_time": "2023-04-21T11:05:46.225137Z"
    }
   },
   "outputs": [],
   "source": [
    "A = ZscoreNormalization(data0)\n",
    "cal_epsilon(A[0:120],A[120:],240,2)#验证组"
   ]
  },
  {
   "cell_type": "code",
   "execution_count": null,
   "id": "c2c802a9",
   "metadata": {
    "ExecuteTime": {
     "end_time": "2023-04-21T11:05:46.333694Z",
     "start_time": "2023-04-21T11:05:46.318974Z"
    }
   },
   "outputs": [],
   "source": [
    "A = ZscoreNormalization(data1)\n",
    "cal_epsilon(A[0:120],A[120:],240,2)#验证组"
   ]
  },
  {
   "cell_type": "code",
   "execution_count": null,
   "id": "9aac0163",
   "metadata": {
    "ExecuteTime": {
     "end_time": "2023-04-21T11:05:46.758479Z",
     "start_time": "2023-04-21T11:05:46.743740Z"
    }
   },
   "outputs": [],
   "source": [
    "A = ZscoreNormalization(data2)\n",
    "cal_epsilon(A[0:120],A[120:],240,2)#验证组"
   ]
  },
  {
   "cell_type": "code",
   "execution_count": null,
   "id": "641aa22f",
   "metadata": {
    "ExecuteTime": {
     "end_time": "2023-04-21T11:05:47.353570Z",
     "start_time": "2023-04-21T11:05:47.341017Z"
    }
   },
   "outputs": [],
   "source": [
    "A = ZscoreNormalization(data3)\n",
    "cal_epsilon(A[0:120],A[120:],480,2)#验证组"
   ]
  },
  {
   "cell_type": "code",
   "execution_count": null,
   "id": "d528caec",
   "metadata": {},
   "outputs": [],
   "source": []
  }
 ],
 "metadata": {
  "kernelspec": {
   "display_name": "Python 3 (ipykernel)",
   "language": "python",
   "name": "python3"
  },
  "language_info": {
   "codemirror_mode": {
    "name": "ipython",
    "version": 3
   },
   "file_extension": ".py",
   "mimetype": "text/x-python",
   "name": "python",
   "nbconvert_exporter": "python",
   "pygments_lexer": "ipython3",
   "version": "3.8.3"
  },
  "toc": {
   "base_numbering": 1,
   "nav_menu": {},
   "number_sections": true,
   "sideBar": true,
   "skip_h1_title": false,
   "title_cell": "Table of Contents",
   "title_sidebar": "Contents",
   "toc_cell": false,
   "toc_position": {},
   "toc_section_display": true,
   "toc_window_display": false
  },
  "varInspector": {
   "cols": {
    "lenName": 16,
    "lenType": 16,
    "lenVar": 40
   },
   "kernels_config": {
    "python": {
     "delete_cmd_postfix": "",
     "delete_cmd_prefix": "del ",
     "library": "var_list.py",
     "varRefreshCmd": "print(var_dic_list())"
    },
    "r": {
     "delete_cmd_postfix": ") ",
     "delete_cmd_prefix": "rm(",
     "library": "var_list.r",
     "varRefreshCmd": "cat(var_dic_list()) "
    }
   },
   "types_to_exclude": [
    "module",
    "function",
    "builtin_function_or_method",
    "instance",
    "_Feature"
   ],
   "window_display": false
  }
 },
 "nbformat": 4,
 "nbformat_minor": 5
}
