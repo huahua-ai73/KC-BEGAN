{
 "cells": [
  {
   "cell_type": "code",
   "execution_count": null,
   "id": "a6263a15",
   "metadata": {
    "ExecuteTime": {
     "end_time": "2023-04-21T11:37:51.256922Z",
     "start_time": "2023-04-21T11:37:51.238104Z"
    }
   },
   "outputs": [],
   "source": [
    "# 导入相关数据\n",
    "import os \n",
    "import numpy as np\n",
    "from sklearn.metrics import r2_score\n",
    "from sklearn.svm import SVR\n",
    "from sklearn.linear_model import Ridge, LinearRegression\n",
    "from sklearn.cross_decomposition import PLSRegression\n",
    "from sklearn.decomposition import PCA\n",
    "from sklearn.linear_model import LinearRegression\n",
    "from scipy.signal import savgol_filter\n",
    "import seaborn as sns\n",
    "import matplotlib.pyplot as plt\n",
    "import matplotlib\n",
    "import numpy as np\n",
    "import scipy.stats as st\n",
    "# 导入相关数据\n",
    "import os "
   ]
  },
  {
   "cell_type": "code",
   "execution_count": null,
   "id": "23de61f9",
   "metadata": {
    "ExecuteTime": {
     "end_time": "2023-04-21T11:37:51.944254Z",
     "start_time": "2023-04-21T11:37:51.914330Z"
    }
   },
   "outputs": [],
   "source": [
    "# 导入相关数据\n",
    "os.chdir(r'E:\\Major_revision\\Major_dataSet')\n",
    "x = np.load('trainx.npy',allow_pickle=True).astype('float64')\n",
    "y = np.load('trainy.npy',allow_pickle=True).astype('float64').reshape(120,1)\n",
    "test_x = np.load('testx.npy',allow_pickle=True).astype('float64')\n",
    "test_y = np.load('testy.npy',allow_pickle=True).astype('float64').reshape(30,1)\n",
    "generated_x1 = np.load('XfromX1.npy', allow_pickle=True).astype('float64')\n",
    "generated_x2 = np.load('XfromX2.npy', allow_pickle=True).astype('float64')\n",
    "generated_x3 = np.load('XfromX3.npy', allow_pickle=True).astype('float64')\n",
    "generated_y1 = np.load('YfromY1.npy',allow_pickle = True).reshape(120,1)\n",
    "generated_y2 = np.load('YfromY2.npy',allow_pickle = True).reshape(120,1)\n",
    "generated_y3 = np.load('YfromY3.npy',allow_pickle = True).reshape(120,1)"
   ]
  },
  {
   "cell_type": "code",
   "execution_count": null,
   "id": "3a5bcc56",
   "metadata": {
    "ExecuteTime": {
     "end_time": "2023-04-21T02:31:13.288542Z",
     "start_time": "2023-04-21T02:31:11.850637Z"
    }
   },
   "outputs": [],
   "source": []
  },
  {
   "cell_type": "code",
   "execution_count": null,
   "id": "2dc726ea",
   "metadata": {
    "ExecuteTime": {
     "end_time": "2023-04-21T02:31:55.779038Z",
     "start_time": "2023-04-21T02:31:55.748844Z"
    }
   },
   "outputs": [],
   "source": [
    "C1 = np.vstack([x, generated_x1])\n",
    "C2 = np.vstack([x, generated_x2])\n",
    "C3 = np.vstack([x, generated_x3])\n",
    "C4 = np.vstack([x, generated_x1, generated_x2])\n",
    "C5 = np.vstack([x, generated_x1, generated_x3])\n",
    "C6 = np.vstack([x, generated_x2, generated_x3])\n",
    "C7 = np.vstack([x, generated_x1, generated_x2, generated_x3])"
   ]
  },
  {
   "cell_type": "code",
   "execution_count": null,
   "id": "1af29d27",
   "metadata": {
    "ExecuteTime": {
     "end_time": "2023-04-21T02:31:56.375077Z",
     "start_time": "2023-04-21T02:31:56.370100Z"
    }
   },
   "outputs": [],
   "source": [
    "D1 = np.vstack([y, generated_y1])\n",
    "D2 = np.vstack([y, generated_y2])\n",
    "D3 = np.vstack([y, generated_y3])\n",
    "D4 = np.vstack([y, generated_y1, generated_y2])\n",
    "D5 = np.vstack([y, generated_y1, generated_y3])\n",
    "D6 = np.vstack([y, generated_y2, generated_y3])\n",
    "D7 = np.vstack([y, generated_y1, generated_y2, generated_y3])"
   ]
  },
  {
   "cell_type": "code",
   "execution_count": null,
   "id": "d203cbcb",
   "metadata": {
    "ExecuteTime": {
     "end_time": "2023-04-21T02:31:56.924141Z",
     "start_time": "2023-04-21T02:31:56.916190Z"
    }
   },
   "outputs": [],
   "source": [
    "def PLSR_model(data_x, data_y):\n",
    "    pls2 = PLSRegression(n_components=4)\n",
    "    pls2.fit(data_x, data_y)\n",
    "    score1 = pls2.score(x,y)\n",
    "    score5 = pls2.score(test_x,test_y)  \n",
    "    score2 = pls2.score(generated_x1,generated_y1) \n",
    "    score3 = pls2.score(generated_x2,generated_y2)  \n",
    "    score4 = pls2.score(generated_x3,generated_y3) \n",
    "    print(\"训练集:%s,A:%s,B:%s,C:%s,测试集:%s\"%(score1, score2, score3 , score4, score5))\n",
    "    return score1, score2, score3 , score4, score5"
   ]
  },
  {
   "cell_type": "code",
   "execution_count": null,
   "id": "04ef176c",
   "metadata": {
    "ExecuteTime": {
     "end_time": "2023-04-21T02:31:58.111073Z",
     "start_time": "2023-04-21T02:31:57.780894Z"
    }
   },
   "outputs": [],
   "source": [
    "a = []\n",
    "a.append(PLSR_model(x, y))\n",
    "a.append(PLSR_model(generated_x1, generated_y1))\n",
    "a.append(PLSR_model(generated_x2, generated_y2))\n",
    "a.append(PLSR_model(generated_x3, generated_y3))\n",
    "a.append(PLSR_model(C1, D1))\n",
    "a.append(PLSR_model(C2, D2))\n",
    "a.append(PLSR_model(C3, D3))\n",
    "a.append(PLSR_model(C4, D4))\n",
    "a.append(PLSR_model(C5, D5))\n",
    "a.append(PLSR_model(C6, D6))\n",
    "a.append(PLSR_model(C7, D7))"
   ]
  },
  {
   "cell_type": "code",
   "execution_count": null,
   "id": "fa66f06d",
   "metadata": {
    "ExecuteTime": {
     "end_time": "2023-04-21T02:32:12.463889Z",
     "start_time": "2023-04-21T02:32:12.455910Z"
    }
   },
   "outputs": [],
   "source": [
    "a = np.array(a)\n",
    "os.chdir('E:/Major_revision/传统回归模型评价')\n",
    "np.savetxt(\"plsr_r2.csv\", a, delimiter=\",\" )"
   ]
  },
  {
   "cell_type": "code",
   "execution_count": null,
   "id": "a28d6f52",
   "metadata": {
    "ExecuteTime": {
     "end_time": "2023-04-21T02:32:13.593836Z",
     "start_time": "2023-04-21T02:32:13.575847Z"
    }
   },
   "outputs": [],
   "source": [
    "def svr_model(data_x, data_y):\n",
    "    rbf_svr = SVR(kernel='linear',tol=0.2,C=10) # 需要修改\n",
    "    # 训练\n",
    "    rbf_svr.fit(data_x, data_y)\n",
    "    score1 = rbf_svr.score(x,y)\n",
    "    score5 = rbf_svr.score(test_x,test_y)  \n",
    "    score2 = rbf_svr.score(generated_x1,generated_y1) \n",
    "    score3 = rbf_svr.score(generated_x2,generated_y2)  \n",
    "    score4 = rbf_svr.score(generated_x3,generated_y3) \n",
    "    print(\"训练集:%s,A:%s,B:%s,C:%s,测试集:%s\"%(score1, score2, score3 , score4, score5))\n",
    "    return score1, score2, score3 , score4, score5"
   ]
  },
  {
   "cell_type": "code",
   "execution_count": null,
   "id": "e7c79a71",
   "metadata": {
    "ExecuteTime": {
     "end_time": "2023-04-21T02:32:15.420964Z",
     "start_time": "2023-04-21T02:32:14.240929Z"
    }
   },
   "outputs": [],
   "source": [
    "b = []\n",
    "b.append(svr_model(x, y))\n",
    "b.append(svr_model(generated_x1, generated_y1))\n",
    "b.append(svr_model(generated_x2, generated_y2))\n",
    "b.append(svr_model(generated_x3, generated_y3))\n",
    "b.append(svr_model(C1, D1))\n",
    "b.append(svr_model(C2, D2))\n",
    "b.append(svr_model(C3, D3))\n",
    "b.append(svr_model(C4, D4))\n",
    "b.append(svr_model(C5, D5))\n",
    "b.append(svr_model(C6, D6))\n",
    "b.append(svr_model(C7, D7))"
   ]
  },
  {
   "cell_type": "code",
   "execution_count": null,
   "id": "649feed7",
   "metadata": {
    "ExecuteTime": {
     "end_time": "2023-04-21T02:32:31.089829Z",
     "start_time": "2023-04-21T02:32:31.071876Z"
    }
   },
   "outputs": [],
   "source": [
    "b = np.array(b)\n",
    "os.chdir('E:/Major_revision/传统回归模型评价')\n",
    "np.savetxt(\"svr_r2.csv\", b, delimiter=\",\" )"
   ]
  },
  {
   "cell_type": "code",
   "execution_count": null,
   "id": "83a5e2cf",
   "metadata": {
    "ExecuteTime": {
     "end_time": "2023-04-21T11:38:06.436215Z",
     "start_time": "2023-04-21T11:38:06.429225Z"
    }
   },
   "outputs": [],
   "source": [
    "def rr_model(data_x, data_y):\n",
    "    rr = Ridge(alpha=0.1) \n",
    "    rr.fit(data_x, data_y)\n",
    "    score1 = rr.score(x,y)\n",
    "    score5 = rr.score(test_x,test_y)  \n",
    "    score2 = rr.score(generated_x1,generated_y1) \n",
    "    score3 = rr.score(generated_x2,generated_y2)  \n",
    "    score4 = rr.score(generated_x3,generated_y3) \n",
    "    print(\"训练集:%s,A:%s,B:%s,C:%s,测试集:%s\"%(score1, score2, score3 , score4, score5))\n",
    "    return score1, score2, score3 , score4, score5"
   ]
  },
  {
   "cell_type": "code",
   "execution_count": null,
   "id": "b3da0833",
   "metadata": {
    "ExecuteTime": {
     "end_time": "2023-04-21T11:38:07.452857Z",
     "start_time": "2023-04-21T11:38:07.213943Z"
    }
   },
   "outputs": [],
   "source": [
    "c = []\n",
    "c.append(rr_model(x, y))\n",
    "c.append(rr_model(generated_x1, generated_y1))\n",
    "c.append(rr_model(generated_x2, generated_y2))\n",
    "c.append(rr_model(generated_x3, generated_y3))\n",
    "c.append(rr_model(C1, D1))\n",
    "c.append(rr_model(C2, D2))\n",
    "c.append(rr_model(C3, D3))\n",
    "c.append(rr_model(C4, D4))\n",
    "c.append(rr_model(C5, D5))\n",
    "c.append(rr_model(C6, D6))\n",
    "c.append(rr_model(C7, D7))"
   ]
  },
  {
   "cell_type": "code",
   "execution_count": null,
   "id": "4ce4a35f",
   "metadata": {
    "ExecuteTime": {
     "end_time": "2023-04-21T11:38:33.406058Z",
     "start_time": "2023-04-21T11:38:33.385293Z"
    }
   },
   "outputs": [],
   "source": [
    "c = np.array(c)\n",
    "os.chdir('E:/Major_revision/传统回归模型评价')\n",
    "np.savetxt(\"rr_r2.csv\", c, delimiter=\",\" )"
   ]
  },
  {
   "cell_type": "code",
   "execution_count": null,
   "id": "940654d1",
   "metadata": {
    "ExecuteTime": {
     "end_time": "2023-04-21T02:32:40.210547Z",
     "start_time": "2023-04-21T02:32:40.194590Z"
    }
   },
   "outputs": [],
   "source": [
    "def pca_model(data_x, data_y):\n",
    "    pca = PCA(n_components=10)\n",
    "    pca.fit(data_x)\n",
    "    p = pca.transform(data_x)\n",
    "    p1 = pca.transform(x)\n",
    "    p2 = pca.transform(test_x)\n",
    "    p3 = pca.transform(generated_x1)\n",
    "    p4 = pca.transform(generated_x2)\n",
    "    p5 = pca.transform(generated_x3)\n",
    "    lr = LinearRegression()\n",
    "    lr.fit(p,data_y)\n",
    "    score5 = r2_score(test_y, lr.predict(p2))\n",
    "    score1 = r2_score(y, lr.predict(p1))\n",
    "    score2 = r2_score(generated_y1, lr.predict(p3))\n",
    "    score3 = r2_score(generated_y2, lr.predict(p4))\n",
    "    score4 = r2_score(generated_y3, lr.predict(p5))\n",
    "    print(\"训练集:%s,A:%s,B:%s,C:%s,测试集:%s\"%(score1, score2, score3 , score4, score5))\n",
    "    return score1, score2, score3 , score4, score5"
   ]
  },
  {
   "cell_type": "code",
   "execution_count": null,
   "id": "81dca083",
   "metadata": {
    "ExecuteTime": {
     "end_time": "2023-04-21T02:32:41.240249Z",
     "start_time": "2023-04-21T02:32:40.782278Z"
    }
   },
   "outputs": [],
   "source": [
    "d = []\n",
    "d.append(pca_model(x, y))\n",
    "d.append(pca_model(generated_x1, generated_y1))\n",
    "d.append(pca_model(generated_x2, generated_y2))\n",
    "d.append(pca_model(generated_x3, generated_y3))\n",
    "d.append(pca_model(C1, D1))\n",
    "d.append(pca_model(C2, D2))\n",
    "d.append(pca_model(C3, D3))\n",
    "d.append(pca_model(C4, D4))\n",
    "d.append(pca_model(C5, D5))\n",
    "d.append(pca_model(C6, D6))\n",
    "d.append(pca_model(C7, D7))"
   ]
  },
  {
   "cell_type": "code",
   "execution_count": null,
   "id": "6ee4ea40",
   "metadata": {
    "ExecuteTime": {
     "end_time": "2023-04-21T02:32:46.660055Z",
     "start_time": "2023-04-21T02:32:46.651563Z"
    }
   },
   "outputs": [],
   "source": [
    "d = np.array(d)\n",
    "os.chdir('E:/Major_revision/传统回归模型评价')\n",
    "np.savetxt(\"pcr_r2.csv\", d, delimiter=\",\" )"
   ]
  },
  {
   "cell_type": "code",
   "execution_count": null,
   "id": "6858beba",
   "metadata": {},
   "outputs": [],
   "source": []
  },
  {
   "cell_type": "code",
   "execution_count": null,
   "id": "25bcc4e3",
   "metadata": {},
   "outputs": [],
   "source": []
  }
 ],
 "metadata": {
  "kernelspec": {
   "display_name": "Python 3 (ipykernel)",
   "language": "python",
   "name": "python3"
  },
  "language_info": {
   "codemirror_mode": {
    "name": "ipython",
    "version": 3
   },
   "file_extension": ".py",
   "mimetype": "text/x-python",
   "name": "python",
   "nbconvert_exporter": "python",
   "pygments_lexer": "ipython3",
   "version": "3.8.3"
  },
  "toc": {
   "base_numbering": 1,
   "nav_menu": {},
   "number_sections": true,
   "sideBar": true,
   "skip_h1_title": false,
   "title_cell": "Table of Contents",
   "title_sidebar": "Contents",
   "toc_cell": false,
   "toc_position": {},
   "toc_section_display": true,
   "toc_window_display": false
  },
  "varInspector": {
   "cols": {
    "lenName": 16,
    "lenType": 16,
    "lenVar": 40
   },
   "kernels_config": {
    "python": {
     "delete_cmd_postfix": "",
     "delete_cmd_prefix": "del ",
     "library": "var_list.py",
     "varRefreshCmd": "print(var_dic_list())"
    },
    "r": {
     "delete_cmd_postfix": ") ",
     "delete_cmd_prefix": "rm(",
     "library": "var_list.r",
     "varRefreshCmd": "cat(var_dic_list()) "
    }
   },
   "types_to_exclude": [
    "module",
    "function",
    "builtin_function_or_method",
    "instance",
    "_Feature"
   ],
   "window_display": false
  }
 },
 "nbformat": 4,
 "nbformat_minor": 5
}
