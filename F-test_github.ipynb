{
 "cells": [
  {
   "cell_type": "code",
   "execution_count": null,
   "id": "5dca85ef",
   "metadata": {
    "ExecuteTime": {
     "end_time": "2023-04-25T09:22:08.769572Z",
     "start_time": "2023-04-25T09:22:08.756101Z"
    }
   },
   "outputs": [],
   "source": [
    "import os \n",
    "import numpy as np\n",
    "#读取真实数据集\n",
    "import pandas as pd\n",
    "import matplotlib.pyplot as plt\n",
    "import tensorflow as tf\n",
    "import matplotlib\n",
    "from sklearn.cross_decomposition import PLSRegression"
   ]
  },
  {
   "cell_type": "code",
   "execution_count": null,
   "id": "452d9d7a",
   "metadata": {
    "ExecuteTime": {
     "end_time": "2023-04-25T09:22:08.987545Z",
     "start_time": "2023-04-25T09:22:08.969591Z"
    }
   },
   "outputs": [],
   "source": [
    "os.chdir(r'E:\\Major_revision\\Major_dataSet')\n",
    "x = np.load('trainx.npy',allow_pickle=True)\n",
    "y = np.load('trainy.npy',allow_pickle=True).reshape(120)\n",
    "generated_x1 = np.load('XfromX1.npy', allow_pickle=True)\n",
    "generated_x2 = np.load('XfromX2.npy', allow_pickle=True)\n",
    "generated_x3 = np.load('XfromX3.npy', allow_pickle=True)\n",
    "generated_y1 = np.load('YfromY1.npy',allow_pickle = True).reshape(120)\n",
    "generated_y2 = np.load('YfromY2.npy',allow_pickle = True).reshape(120)\n",
    "generated_y3 = np.load('YfromY3.npy',allow_pickle = True).reshape(120)\n",
    "axis_x = np.load('axis_x.npy',allow_pickle=True)"
   ]
  },
  {
   "cell_type": "code",
   "execution_count": null,
   "id": "95f7369d",
   "metadata": {
    "ExecuteTime": {
     "end_time": "2023-04-25T09:22:09.158564Z",
     "start_time": "2023-04-25T09:22:09.147590Z"
    }
   },
   "outputs": [],
   "source": [
    "# 给数据排序\n",
    "sort_y = np.argsort(y)\n",
    "sort_x = x[sort_y]\n",
    "sort_y = y[sort_y].reshape(120,1)\n",
    "sort_y1 = np.argsort(generated_y1)\n",
    "sort_x1 = generated_x1[sort_y1]\n",
    "sort_y1 = generated_y1[sort_y1].reshape(120,1)\n",
    "sort_y2 = np.argsort(generated_y2)\n",
    "sort_x2 = generated_x2[sort_y2]\n",
    "sort_y2 = generated_y2[sort_y2].reshape(120,1)\n",
    "sort_y3 = np.argsort(generated_y3)\n",
    "sort_x3 = generated_x3[sort_y3]\n",
    "sort_y3 = generated_y3[sort_y3].reshape(120,1)"
   ]
  },
  {
   "cell_type": "code",
   "execution_count": null,
   "id": "a7ee7e29",
   "metadata": {
    "ExecuteTime": {
     "end_time": "2023-04-25T09:22:09.686932Z",
     "start_time": "2023-04-25T09:22:09.665447Z"
    }
   },
   "outputs": [],
   "source": [
    "PLS = PLSRegression(n_components=4)\n",
    "PLS.fit(x,y)"
   ]
  },
  {
   "cell_type": "code",
   "execution_count": null,
   "id": "7c418e7f",
   "metadata": {
    "ExecuteTime": {
     "end_time": "2023-04-25T09:22:10.094371Z",
     "start_time": "2023-04-25T09:22:10.078450Z"
    }
   },
   "outputs": [],
   "source": [
    "def for_test(x_data, y_data):\n",
    "    y_pred = PLS.predict(x_data)\n",
    "    y_jian = y_pred - y_data\n",
    "    y_jian = y_jian**2\n",
    "    dan = np.ones(120)\n",
    "    for i in range(120):\n",
    "        dan[i] = (y_jian[i]*119)/(y_jian.sum()-y_jian[i])\n",
    "    X = np.arange(120)\n",
    "    Y = np.array(0.95).repeat(120)\n",
    "    plt.scatter(X,dan,c='k')\n",
    "    plt.plot(X,Y,c = 'r')\n",
    "    plt.show()\n",
    "    j = 0\n",
    "    for i in range(120):\n",
    "        if dan[i]>3.921:\n",
    "             j = j+1\n",
    "    print(j)\n",
    "    return dan"
   ]
  },
  {
   "cell_type": "code",
   "execution_count": null,
   "id": "6926c984",
   "metadata": {
    "ExecuteTime": {
     "end_time": "2023-04-25T09:22:10.911999Z",
     "start_time": "2023-04-25T09:22:10.554047Z"
    }
   },
   "outputs": [],
   "source": [
    "Result = for_test(sort_x, sort_y).reshape(120,1)\n",
    "Result1 = for_test(sort_x1, sort_y1).reshape(120,1)\n",
    "Result2 = for_test(sort_x2, sort_y2).reshape(120,1).reshape(120,1)\n",
    "Result3 = for_test(sort_x3, sort_y3).reshape(120,1)"
   ]
  },
  {
   "cell_type": "code",
   "execution_count": null,
   "id": "4d427e0a",
   "metadata": {
    "ExecuteTime": {
     "end_time": "2023-04-25T09:22:13.046351Z",
     "start_time": "2023-04-25T09:22:13.023408Z"
    }
   },
   "outputs": [],
   "source": [
    "os.chdir('E:\\Major_revision\\大修绘图\\F-test')\n",
    "D = np.arange(1,121)\n",
    "D = D.reshape(120,1)\n",
    "Result = np.hstack([D, Result, Result1, Result2, Result3])\n",
    "print(Result)\n",
    "np.savetxt(\"F-testall.csv\", Result, delimiter=\",\" )"
   ]
  },
  {
   "cell_type": "code",
   "execution_count": null,
   "id": "6179635c",
   "metadata": {},
   "outputs": [],
   "source": []
  }
 ],
 "metadata": {
  "kernelspec": {
   "display_name": "Python 3 (ipykernel)",
   "language": "python",
   "name": "python3"
  },
  "language_info": {
   "codemirror_mode": {
    "name": "ipython",
    "version": 3
   },
   "file_extension": ".py",
   "mimetype": "text/x-python",
   "name": "python",
   "nbconvert_exporter": "python",
   "pygments_lexer": "ipython3",
   "version": "3.8.3"
  },
  "toc": {
   "base_numbering": 1,
   "nav_menu": {},
   "number_sections": true,
   "sideBar": true,
   "skip_h1_title": false,
   "title_cell": "Table of Contents",
   "title_sidebar": "Contents",
   "toc_cell": false,
   "toc_position": {},
   "toc_section_display": true,
   "toc_window_display": false
  },
  "varInspector": {
   "cols": {
    "lenName": 16,
    "lenType": 16,
    "lenVar": 40
   },
   "kernels_config": {
    "python": {
     "delete_cmd_postfix": "",
     "delete_cmd_prefix": "del ",
     "library": "var_list.py",
     "varRefreshCmd": "print(var_dic_list())"
    },
    "r": {
     "delete_cmd_postfix": ") ",
     "delete_cmd_prefix": "rm(",
     "library": "var_list.r",
     "varRefreshCmd": "cat(var_dic_list()) "
    }
   },
   "types_to_exclude": [
    "module",
    "function",
    "builtin_function_or_method",
    "instance",
    "_Feature"
   ],
   "window_display": false
  }
 },
 "nbformat": 4,
 "nbformat_minor": 5
}
